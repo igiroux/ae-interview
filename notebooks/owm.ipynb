{
 "cells": [
  {
   "cell_type": "code",
   "execution_count": 1,
   "id": "38beae32",
   "metadata": {},
   "outputs": [],
   "source": [
    "!pip install -r requirements.txt > /dev/null"
   ]
  },
  {
   "cell_type": "code",
   "execution_count": 7,
   "id": "c1a2a1cb",
   "metadata": {},
   "outputs": [],
   "source": [
    "import csv\n",
    "import dataclasses\n",
    "from datetime import datetime\n",
    "from functools import partial\n",
    "from pathlib import Path\n",
    "import typing\n",
    "from typing import Any, Callable, Dict, List, Union\n",
    "from urllib.parse import urljoin\n",
    "\n",
    "\n",
    "import benedict\n",
    "import pandas as pd\n",
    "import requests"
   ]
  },
  {
   "cell_type": "code",
   "execution_count": 39,
   "id": "de1306e4",
   "metadata": {},
   "outputs": [],
   "source": [
    "OWM_API_KEY = \"<MY-KEY>\" # Path(\"data/myfreekey.txt\").open().read().strip()\n",
    "STATIONS_CSV_FILE = \"data/weather_stations.csv\""
   ]
  },
  {
   "cell_type": "code",
   "execution_count": 40,
   "id": "0ce43529",
   "metadata": {},
   "outputs": [
    {
     "data": {
      "text/html": [
       "<div>\n",
       "<style scoped>\n",
       "    .dataframe tbody tr th:only-of-type {\n",
       "        vertical-align: middle;\n",
       "    }\n",
       "\n",
       "    .dataframe tbody tr th {\n",
       "        vertical-align: top;\n",
       "    }\n",
       "\n",
       "    .dataframe thead th {\n",
       "        text-align: right;\n",
       "    }\n",
       "</style>\n",
       "<table border=\"1\" class=\"dataframe\">\n",
       "  <thead>\n",
       "    <tr style=\"text-align: right;\">\n",
       "      <th></th>\n",
       "      <th>id</th>\n",
       "      <th>name</th>\n",
       "      <th>latitude</th>\n",
       "      <th>longitude</th>\n",
       "      <th>altitude</th>\n",
       "    </tr>\n",
       "  </thead>\n",
       "  <tbody>\n",
       "    <tr>\n",
       "      <th>0</th>\n",
       "      <td>7005</td>\n",
       "      <td>ABBEVILLE</td>\n",
       "      <td>50.136000</td>\n",
       "      <td>1.834000</td>\n",
       "      <td>69</td>\n",
       "    </tr>\n",
       "    <tr>\n",
       "      <th>1</th>\n",
       "      <td>7015</td>\n",
       "      <td>LILLE-LESQUIN</td>\n",
       "      <td>50.570000</td>\n",
       "      <td>3.097500</td>\n",
       "      <td>47</td>\n",
       "    </tr>\n",
       "    <tr>\n",
       "      <th>2</th>\n",
       "      <td>7020</td>\n",
       "      <td>PTE DE LA HAGUE</td>\n",
       "      <td>49.725167</td>\n",
       "      <td>-1.939833</td>\n",
       "      <td>6</td>\n",
       "    </tr>\n",
       "  </tbody>\n",
       "</table>\n",
       "</div>"
      ],
      "text/plain": [
       "     id             name   latitude  longitude  altitude\n",
       "0  7005        ABBEVILLE  50.136000   1.834000        69\n",
       "1  7015    LILLE-LESQUIN  50.570000   3.097500        47\n",
       "2  7020  PTE DE LA HAGUE  49.725167  -1.939833         6"
      ]
     },
     "execution_count": 40,
     "metadata": {},
     "output_type": "execute_result"
    }
   ],
   "source": [
    "station_df = pd.read_csv(STATIONS_CSV_FILE)\n",
    "station_df[:3]"
   ]
  },
  {
   "cell_type": "code",
   "execution_count": 41,
   "id": "d58afba0",
   "metadata": {},
   "outputs": [
    {
     "data": {
      "text/plain": [
       "{'dt': 1688709600, 'main': {'temp': 17.26, 'feels_like': 17.39, 'temp_min': 16.81, 'temp_max': 17.26, 'pressure': 1021, 'sea_level': 1021, 'grnd_level': 936, 'humidity': 90, 'temp_kf': 0.45}, 'weather': [{'id': 802, 'main': 'Clouds', 'description': 'scattered clouds', 'icon': '03d'}], 'clouds': {'all': 40}, 'wind': {'speed': 0.74, 'deg': 317, 'gust': 1.18}, 'visibility': 10000, 'pop': 0, 'sys': {'pod': 'd'}, 'dt_txt': '2023-07-07 06:00:00'}"
      ]
     },
     "execution_count": 41,
     "metadata": {},
     "output_type": "execute_result"
    }
   ],
   "source": [
    "resp = requests.get(\n",
    "    \"https://api.openweathermap.org/data/2.5/forecast\",\n",
    "    params=dict(\n",
    "        appid=OWM_API_KEY,\n",
    "        lon=10.99, \n",
    "        lat=44.34, \n",
    "        units=\"metric\",\n",
    "    ),\n",
    ")\n",
    "data = benedict.benedict(resp.json())\n",
    "data[\"list[0]\"]"
   ]
  },
  {
   "cell_type": "code",
   "execution_count": 10,
   "id": "0079740a",
   "metadata": {},
   "outputs": [
    {
     "data": {
      "text/plain": [
       "[datetime.datetime(2023, 7, 7, 6, 0),\n",
       " datetime.datetime(2023, 7, 7, 9, 0),\n",
       " datetime.datetime(2023, 7, 7, 12, 0)]"
      ]
     },
     "execution_count": 10,
     "metadata": {},
     "output_type": "execute_result"
    }
   ],
   "source": [
    "rows = benedict.benedict(resp.json())[\"list\"][:3]\n",
    "ts2utc = datetime.utcfromtimestamp\n",
    "[ts2utc(row[\"dt\"]) for row in rows]"
   ]
  },
  {
   "cell_type": "code",
   "execution_count": 11,
   "id": "aefb5dbf",
   "metadata": {},
   "outputs": [
    {
     "data": {
      "text/html": [
       "<div>\n",
       "<style scoped>\n",
       "    .dataframe tbody tr th:only-of-type {\n",
       "        vertical-align: middle;\n",
       "    }\n",
       "\n",
       "    .dataframe tbody tr th {\n",
       "        vertical-align: top;\n",
       "    }\n",
       "\n",
       "    .dataframe thead th {\n",
       "        text-align: right;\n",
       "    }\n",
       "</style>\n",
       "<table border=\"1\" class=\"dataframe\">\n",
       "  <thead>\n",
       "    <tr style=\"text-align: right;\">\n",
       "      <th></th>\n",
       "      <th>forecast_time</th>\n",
       "      <th>cloudiness</th>\n",
       "      <th>temp</th>\n",
       "      <th>feels_like</th>\n",
       "      <th>temp_min</th>\n",
       "      <th>temp_max</th>\n",
       "      <th>pressure</th>\n",
       "      <th>sea_level</th>\n",
       "      <th>grnd_level</th>\n",
       "      <th>humidity</th>\n",
       "      <th>temp_kf</th>\n",
       "    </tr>\n",
       "  </thead>\n",
       "  <tbody>\n",
       "    <tr>\n",
       "      <th>0</th>\n",
       "      <td>2023-07-07 06:00:00</td>\n",
       "      <td>50</td>\n",
       "      <td>16.57</td>\n",
       "      <td>16.66</td>\n",
       "      <td>16.57</td>\n",
       "      <td>16.74</td>\n",
       "      <td>1021</td>\n",
       "      <td>1021</td>\n",
       "      <td>936</td>\n",
       "      <td>91</td>\n",
       "      <td>-0.17</td>\n",
       "    </tr>\n",
       "    <tr>\n",
       "      <th>1</th>\n",
       "      <td>2023-07-07 09:00:00</td>\n",
       "      <td>50</td>\n",
       "      <td>17.98</td>\n",
       "      <td>18.03</td>\n",
       "      <td>17.98</td>\n",
       "      <td>20.81</td>\n",
       "      <td>1021</td>\n",
       "      <td>1021</td>\n",
       "      <td>938</td>\n",
       "      <td>84</td>\n",
       "      <td>-2.83</td>\n",
       "    </tr>\n",
       "    <tr>\n",
       "      <th>2</th>\n",
       "      <td>2023-07-07 12:00:00</td>\n",
       "      <td>51</td>\n",
       "      <td>20.77</td>\n",
       "      <td>20.76</td>\n",
       "      <td>20.77</td>\n",
       "      <td>22.87</td>\n",
       "      <td>1021</td>\n",
       "      <td>1021</td>\n",
       "      <td>938</td>\n",
       "      <td>71</td>\n",
       "      <td>-2.10</td>\n",
       "    </tr>\n",
       "  </tbody>\n",
       "</table>\n",
       "</div>"
      ],
      "text/plain": [
       "        forecast_time  cloudiness   temp  feels_like  temp_min  temp_max  \\\n",
       "0 2023-07-07 06:00:00          50  16.57       16.66     16.57     16.74   \n",
       "1 2023-07-07 09:00:00          50  17.98       18.03     17.98     20.81   \n",
       "2 2023-07-07 12:00:00          51  20.77       20.76     20.77     22.87   \n",
       "\n",
       "   pressure  sea_level  grnd_level  humidity  temp_kf  \n",
       "0      1021       1021         936        91    -0.17  \n",
       "1      1021       1021         938        84    -2.83  \n",
       "2      1021       1021         938        71    -2.10  "
      ]
     },
     "execution_count": 11,
     "metadata": {},
     "output_type": "execute_result"
    }
   ],
   "source": [
    "df = pd.DataFrame(\n",
    "    [dict(forecast_time=ts2utc(row[\"dt\"]), cloudiness=row[\"clouds.all\"], **row[\"main\"]) for row in data[\"list\"]],\n",
    ")\n",
    "df[:3]"
   ]
  },
  {
   "cell_type": "code",
   "execution_count": 29,
   "id": "fa3351cb",
   "metadata": {},
   "outputs": [
    {
     "data": {
      "text/plain": [
       "[Station(statioin_id=7005, name='ABBEVILLE', latitude=50.136, longitude=1.834, altitude=69),\n",
       " Station(statioin_id=7015, name='LILLE-LESQUIN', latitude=50.57, longitude=3.0975, altitude=47),\n",
       " Station(statioin_id=7020, name='PTE DE LA HAGUE', latitude=49.725167, longitude=-1.939833, altitude=6)]"
      ]
     },
     "execution_count": 29,
     "metadata": {},
     "output_type": "execute_result"
    }
   ],
   "source": [
    "@dataclasses.dataclass\n",
    "class Station:\n",
    "    statioin_id: int\n",
    "    name: str\n",
    "    latitude: str\n",
    "    longitude: str\n",
    "    altitude: str\n",
    "\n",
    "    @staticmethod\n",
    "    def from_csv(path: Union[str, Path]) -> list[\"Station\"]:\n",
    "        return [\n",
    "            Station(*row)\n",
    "            for row in pd.read_csv(path).values.tolist()\n",
    "        ]\n",
    "    \n",
    "    \n",
    "stations = Station.from_csv(STATIONS_CSV_FILE)\n",
    "stations[:3]"
   ]
  },
  {
   "cell_type": "code",
   "execution_count": null,
   "id": "ebf548bc",
   "metadata": {},
   "outputs": [],
   "source": []
  },
  {
   "cell_type": "code",
   "execution_count": 13,
   "id": "3c453cd0",
   "metadata": {},
   "outputs": [],
   "source": [
    "import enum\n",
    "import typing\n",
    "from typing import Any, Callable, Dict, List, Mapping\n",
    "import enum\n",
    "import dataclasses\n",
    "from dataclasses import dataclass\n",
    "\n",
    "\n",
    "class IResponse(typing.Protocol):\n",
    "    def raise_for_status() -> None:\n",
    "        ...\n",
    "    \n",
    "    def json() -> Dict[str, Any]:\n",
    "        ...\n",
    "        \n",
    "        \n",
    "class IHTTPAgent(typing.Protocol):\n",
    "    def get(url, params: Dict[str, str]) -> IResponse:\n",
    "        ...\n"
   ]
  },
  {
   "cell_type": "code",
   "execution_count": 15,
   "id": "9de6a67b",
   "metadata": {},
   "outputs": [],
   "source": [
    "@dataclass\n",
    "class WFField:\n",
    "    field_path: str\n",
    "    factory: Callable[[Any], Any] = lambda x: x\n",
    "\n",
    "class WFFields(WFField, enum.Enum):\n",
    "    forecast_time = (\"dt\", datetime.utcfromtimestamp)\n",
    "    temperature =  (\"main.temp\", float)\n",
    "    humidity = (\"main.humidity\", int)\n",
    "    cloudiness = (\"clouds.all\", int)"
   ]
  },
  {
   "cell_type": "code",
   "execution_count": 17,
   "id": "dcc3b26f",
   "metadata": {},
   "outputs": [
    {
     "data": {
      "text/plain": [
       "{'forecast_time': datetime.datetime(2023, 7, 7, 6, 0),\n",
       " 'temperature': 16.57,\n",
       " 'humidity': 91,\n",
       " 'cloudiness': 50}"
      ]
     },
     "execution_count": 17,
     "metadata": {},
     "output_type": "execute_result"
    }
   ],
   "source": [
    "row = benedict.benedict(resp.json())[\"list[0]\"]\n",
    "{field.name: field.factory(row[field.field_path]) for field in WFFields}"
   ]
  },
  {
   "cell_type": "code",
   "execution_count": 20,
   "id": "77d892ea",
   "metadata": {},
   "outputs": [],
   "source": [
    "@dataclass\n",
    "class WFData:\n",
    "    forecast_time: datetime\n",
    "    temperature: float\n",
    "    humidity: int\n",
    "    cloudiness: int\n",
    "    \n",
    "    def _asdict(self):\n",
    "        return dataclasses.asdict(self)\n",
    "\n",
    "\n",
    "    @classmethod\n",
    "    def from_owm(cls, owm_resp: benedict.benedict) -> List[\"WFData\"]:\n",
    "        return [\n",
    "            cls(**{field.name: field.factory(row[field.field_path]) for field in WFFields})\n",
    "            for row in owm_resp[\"list\"]\n",
    "        ]"
   ]
  },
  {
   "cell_type": "code",
   "execution_count": 21,
   "id": "f18b2f89",
   "metadata": {},
   "outputs": [
    {
     "data": {
      "text/plain": [
       "[WFData(forecast_time=datetime.datetime(2023, 7, 7, 6, 0), temperature=16.57, humidity=91, cloudiness=50),\n",
       " WFData(forecast_time=datetime.datetime(2023, 7, 7, 9, 0), temperature=17.98, humidity=84, cloudiness=50),\n",
       " WFData(forecast_time=datetime.datetime(2023, 7, 7, 12, 0), temperature=20.77, humidity=71, cloudiness=51)]"
      ]
     },
     "execution_count": 21,
     "metadata": {},
     "output_type": "execute_result"
    }
   ],
   "source": [
    "WFData.from_owm(benedict.benedict(resp.json()))[:3]"
   ]
  },
  {
   "cell_type": "code",
   "execution_count": 22,
   "id": "3e965b54",
   "metadata": {},
   "outputs": [],
   "source": [
    "class SimpleOWMApi:\n",
    "    base_url: str = \"https://api.openweathermap.org/data/2.5/\"\n",
    "    appid: str\n",
    "    def __init__(self, appid: str, agent: IHTTPAgent = None):\n",
    "        self.appid = appid\n",
    "        self.agent = agent or requests\n",
    "\n",
    "    @classmethod\n",
    "    def _url(cls, endpoint: str) -> str:\n",
    "        return urljoin(cls.base_url, endpoint)\n",
    "    \n",
    "    def _get(self, *, endpoint: str, **params) -> Mapping[str, Any]:\n",
    "        try:\n",
    "            response = self.agent.get(self._url(endpoint), params={\"appid\": self.appid, **params})\n",
    "            response.raise_for_status()\n",
    "        except requests.HTTPError:\n",
    "            raise\n",
    "        else:\n",
    "            return benedict.benedict(response.json())\n",
    "    \n",
    "    def forecast(self, *, lon, lat, units=\"metric\") -> List[WFData]:\n",
    "        data = self._get(endpoint=\"forecast\", lon=lon, lat=lat, units=units)\n",
    "        return WFData.from_owm(data)"
   ]
  },
  {
   "cell_type": "code",
   "execution_count": 26,
   "id": "3c63507e",
   "metadata": {},
   "outputs": [
    {
     "data": {
      "text/plain": [
       "[WFData(forecast_time=datetime.datetime(2023, 7, 7, 6, 0), temperature=16.7, humidity=91, cloudiness=43),\n",
       " WFData(forecast_time=datetime.datetime(2023, 7, 7, 9, 0), temperature=17.75, humidity=85, cloudiness=37),\n",
       " WFData(forecast_time=datetime.datetime(2023, 7, 7, 12, 0), temperature=20.19, humidity=74, cloudiness=46)]"
      ]
     },
     "execution_count": 26,
     "metadata": {},
     "output_type": "execute_result"
    }
   ],
   "source": [
    "owm = SimpleOWMApi(OWM_API_KEY)\n",
    "resp = owm.forecast(lon=10.99, lat=44.34, units=\"metric\")\n",
    "resp[:3]"
   ]
  },
  {
   "cell_type": "code",
   "execution_count": null,
   "id": "bfea0b74",
   "metadata": {},
   "outputs": [],
   "source": []
  },
  {
   "cell_type": "code",
   "execution_count": null,
   "id": "01facc48",
   "metadata": {},
   "outputs": [],
   "source": []
  }
 ],
 "metadata": {
  "kernelspec": {
   "display_name": "Python 3 (ipykernel)",
   "language": "python",
   "name": "python3"
  },
  "language_info": {
   "codemirror_mode": {
    "name": "ipython",
    "version": 3
   },
   "file_extension": ".py",
   "mimetype": "text/x-python",
   "name": "python",
   "nbconvert_exporter": "python",
   "pygments_lexer": "ipython3",
   "version": "3.9.16"
  }
 },
 "nbformat": 4,
 "nbformat_minor": 5
}
