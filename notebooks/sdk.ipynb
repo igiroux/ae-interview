{
 "cells": [
  {
   "cell_type": "code",
   "execution_count": 1,
   "id": "773cf431",
   "metadata": {},
   "outputs": [],
   "source": [
    "%load_ext autoreload\n",
    "%autoreload 2"
   ]
  },
  {
   "cell_type": "code",
   "execution_count": 2,
   "id": "dd66a299",
   "metadata": {},
   "outputs": [],
   "source": [
    "import dataclasses\n",
    "import json\n",
    "from pathlib import Path\n",
    "from typing import List \n",
    "from urllib.parse import urljoin\n",
    "\n",
    "import requests\n",
    "\n",
    "from owmapi import SimpleOWMApi, Station, WFData"
   ]
  },
  {
   "cell_type": "code",
   "execution_count": null,
   "id": "830fe1c2",
   "metadata": {},
   "outputs": [],
   "source": []
  },
  {
   "cell_type": "code",
   "execution_count": 3,
   "id": "b750032f",
   "metadata": {},
   "outputs": [],
   "source": [
    "API_KEY = Path(\"data/myfreekey.txt\").open().read().strip()"
   ]
  },
  {
   "cell_type": "code",
   "execution_count": 4,
   "id": "11ca4d07",
   "metadata": {},
   "outputs": [],
   "source": [
    "owm = SimpleOWMApi(API_KEY)"
   ]
  },
  {
   "cell_type": "code",
   "execution_count": 5,
   "id": "0abf0091",
   "metadata": {},
   "outputs": [
    {
     "data": {
      "text/plain": [
       "[Station(station_id=7005, name='ABBEVILLE', latitude=50.136, longitude=1.834, altitude=69),\n",
       " Station(station_id=7015, name='LILLE-LESQUIN', latitude=50.57, longitude=3.0975, altitude=47),\n",
       " Station(station_id=7020, name='PTE DE LA HAGUE', latitude=49.725167, longitude=-1.939833, altitude=6)]"
      ]
     },
     "execution_count": 5,
     "metadata": {},
     "output_type": "execute_result"
    }
   ],
   "source": [
    "stations = Station.from_csv(\"data/weather_stations.csv\")\n",
    "stations[:3]"
   ]
  },
  {
   "cell_type": "code",
   "execution_count": 6,
   "id": "1365bffc",
   "metadata": {},
   "outputs": [],
   "source": [
    "class WXplorerSDK:\n",
    "    base_url = \"http://localhost:8000/\"\n",
    "\n",
    "    @classmethod\n",
    "    def _url(cls, endpoint: str) -> str:\n",
    "        return urljoin(cls.base_url, endpoint)\n",
    "    \n",
    "    @staticmethod\n",
    "    def _method(meth: str, *args, **kwargs):\n",
    "        func = getattr(requests, meth)\n",
    "        resp = func(*args, **kwargs)\n",
    "        resp.raise_for_status()\n",
    "        return resp.json()\n",
    "    \n",
    "    def post(self, endpoint, data):\n",
    "        return self._method(\"post\", self._url(endpoint), json=data)\n",
    "    \n",
    "    def get(self, endpoint):\n",
    "        return self._method(\"get\", self._url(endpoint))\n",
    "    \n",
    "    def list_stations(self):\n",
    "        return [Station(**s) for s in self.get(\"/stations/\")]\n",
    "    \n",
    "    def get_station_weather(self):\n",
    "        return self.get(\"/weather/\")\n",
    "    \n",
    "    def register_stations(self, stations: List[Station]):\n",
    "        for s in stations:\n",
    "            try:\n",
    "                self.post(\"/stations/\", data=s._asdict())\n",
    "            except requests.HTTPError as e:\n",
    "                print(f\"Station registering {s.name} failed.\\n{e}\")\n",
    "    \n",
    "    def save_station_forecast(self, s: Station, wdata: List[WFData]):\n",
    "        print(f\"Handling staton {s.name}\")\n",
    "        for forecast in wdata:\n",
    "            try:\n",
    "                self.post(\"/weather/\", data={\n",
    "                    \"station\": s.station_id,\n",
    "                    **forecast._asdict()\n",
    "                })\n",
    "            except requests.HTTPError as e:\n",
    "                print(f\"Failed to register forcast for station {s.name} (forecast_time: {forecast.forecast_time}). \")\n",
    "    "
   ]
  },
  {
   "cell_type": "code",
   "execution_count": 7,
   "id": "958ba69c",
   "metadata": {},
   "outputs": [],
   "source": [
    "def main()\n",
    "    stations = Station.from_csv(\"data/weather_stations.csv\")\n",
    "    sdk.register_stations(stations)\n",
    "    owm = SimpleOWMApi()\n",
    "    for s in stations:\n",
    "        station_forecast = owm.forecast(lon=s.longitude, lat=s.latitude)\n",
    "        sdk.save_station_forecast(s, station_forecast)\n",
    "main()"
   ]
  },
  {
   "cell_type": "code",
   "execution_count": 11,
   "id": "172ed6b8",
   "metadata": {},
   "outputs": [
    {
     "data": {
      "text/plain": [
       "[Station(station_id=7005, name='ABBEVILLE', latitude=50.136, longitude=1.834, altitude=69),\n",
       " Station(station_id=7015, name='LILLE-LESQUIN', latitude=50.57, longitude=3.0975, altitude=47),\n",
       " Station(station_id=7020, name='PTE DE LA HAGUE', latitude=49.725167, longitude=-1.939833, altitude=6)]"
      ]
     },
     "execution_count": 11,
     "metadata": {},
     "output_type": "execute_result"
    }
   ],
   "source": [
    "station_list = sdk.list_stations()\n",
    "station_list[:3]"
   ]
  },
  {
   "cell_type": "code",
   "execution_count": null,
   "id": "730fc18c",
   "metadata": {},
   "outputs": [],
   "source": []
  }
 ],
 "metadata": {
  "kernelspec": {
   "display_name": "Python 3 (ipykernel)",
   "language": "python",
   "name": "python3"
  },
  "language_info": {
   "codemirror_mode": {
    "name": "ipython",
    "version": 3
   },
   "file_extension": ".py",
   "mimetype": "text/x-python",
   "name": "python",
   "nbconvert_exporter": "python",
   "pygments_lexer": "ipython3",
   "version": "3.9.16"
  }
 },
 "nbformat": 4,
 "nbformat_minor": 5
}
